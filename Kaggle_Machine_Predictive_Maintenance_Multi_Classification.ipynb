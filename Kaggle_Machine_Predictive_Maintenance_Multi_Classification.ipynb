{
  "nbformat": 4,
  "nbformat_minor": 0,
  "metadata": {
    "colab": {
      "name": "Kaggle Machine Predictive Maintenance Multi Classification.ipynb",
      "provenance": [],
      "collapsed_sections": [],
      "authorship_tag": "ABX9TyND6Zmo6WrSKG20sgJJYIeq",
      "include_colab_link": true
    },
    "kernelspec": {
      "name": "python3",
      "display_name": "Python 3"
    },
    "language_info": {
      "name": "python"
    }
  },
  "cells": [
    {
      "cell_type": "markdown",
      "metadata": {
        "id": "view-in-github",
        "colab_type": "text"
      },
      "source": [
        "<a href=\"https://colab.research.google.com/github/youngsiiimba/predictive-maintenance/blob/main/Kaggle_Machine_Predictive_Maintenance_Multi_Classification.ipynb\" target=\"_parent\"><img src=\"https://colab.research.google.com/assets/colab-badge.svg\" alt=\"Open In Colab\"/></a>"
      ]
    },
    {
      "cell_type": "markdown",
      "source": [
        "##Data import"
      ],
      "metadata": {
        "id": "R10fhHEV8OBw"
      }
    },
    {
      "cell_type": "code",
      "execution_count": 1,
      "metadata": {
        "colab": {
          "base_uri": "https://localhost:8080/"
        },
        "id": "29OD8W8B7Dem",
        "outputId": "0b9603df-67ed-484a-8de5-a20b10fbc1ee"
      },
      "outputs": [
        {
          "output_type": "stream",
          "name": "stdout",
          "text": [
            "Looking in indexes: https://pypi.org/simple, https://us-python.pkg.dev/colab-wheels/public/simple/\n",
            "Collecting opendatasets\n",
            "  Downloading opendatasets-0.1.22-py3-none-any.whl (15 kB)\n",
            "Requirement already satisfied: tqdm in /usr/local/lib/python3.7/dist-packages (from opendatasets) (4.64.0)\n",
            "Requirement already satisfied: kaggle in /usr/local/lib/python3.7/dist-packages (from opendatasets) (1.5.12)\n",
            "Requirement already satisfied: click in /usr/local/lib/python3.7/dist-packages (from opendatasets) (7.1.2)\n",
            "Requirement already satisfied: python-dateutil in /usr/local/lib/python3.7/dist-packages (from kaggle->opendatasets) (2.8.2)\n",
            "Requirement already satisfied: requests in /usr/local/lib/python3.7/dist-packages (from kaggle->opendatasets) (2.23.0)\n",
            "Requirement already satisfied: python-slugify in /usr/local/lib/python3.7/dist-packages (from kaggle->opendatasets) (6.1.2)\n",
            "Requirement already satisfied: certifi in /usr/local/lib/python3.7/dist-packages (from kaggle->opendatasets) (2022.6.15)\n",
            "Requirement already satisfied: urllib3 in /usr/local/lib/python3.7/dist-packages (from kaggle->opendatasets) (1.24.3)\n",
            "Requirement already satisfied: six>=1.10 in /usr/local/lib/python3.7/dist-packages (from kaggle->opendatasets) (1.15.0)\n",
            "Requirement already satisfied: text-unidecode>=1.3 in /usr/local/lib/python3.7/dist-packages (from python-slugify->kaggle->opendatasets) (1.3)\n",
            "Requirement already satisfied: idna<3,>=2.5 in /usr/local/lib/python3.7/dist-packages (from requests->kaggle->opendatasets) (2.10)\n",
            "Requirement already satisfied: chardet<4,>=3.0.2 in /usr/local/lib/python3.7/dist-packages (from requests->kaggle->opendatasets) (3.0.4)\n",
            "Installing collected packages: opendatasets\n",
            "Successfully installed opendatasets-0.1.22\n"
          ]
        }
      ],
      "source": [
        "!pip install opendatasets"
      ]
    },
    {
      "cell_type": "code",
      "source": [
        "import opendatasets as od\n",
        "od.download(\"https://www.kaggle.com/datasets/shivamb/machine-predictive-maintenance-classification\")"
      ],
      "metadata": {
        "colab": {
          "base_uri": "https://localhost:8080/"
        },
        "id": "-KwbnXRA7FZG",
        "outputId": "e17a392c-ba57-47ac-9c30-49ebdd00223b"
      },
      "execution_count": 2,
      "outputs": [
        {
          "output_type": "stream",
          "name": "stdout",
          "text": [
            "Please provide your Kaggle credentials to download this dataset. Learn more: http://bit.ly/kaggle-creds\n",
            "Your Kaggle username: simbabooming\n",
            "Your Kaggle Key: ··········\n",
            "Downloading machine-predictive-maintenance-classification.zip to ./machine-predictive-maintenance-classification\n"
          ]
        },
        {
          "output_type": "stream",
          "name": "stderr",
          "text": [
            "100%|██████████| 137k/137k [00:00<00:00, 21.6MB/s]"
          ]
        },
        {
          "output_type": "stream",
          "name": "stdout",
          "text": [
            "\n"
          ]
        },
        {
          "output_type": "stream",
          "name": "stderr",
          "text": [
            "\n"
          ]
        }
      ]
    },
    {
      "cell_type": "code",
      "source": [
        "# Import the necessary library\n",
        "import os\n",
        "import numpy as np\n",
        "import pandas as pd\n",
        "import datetime\n",
        "import kaggle as kg\n",
        "import requests\n",
        "import matplotlib.pyplot as plt\n",
        "import seaborn as sns\n",
        "import datetime"
      ],
      "metadata": {
        "id": "IORWUl7Q7HW6"
      },
      "execution_count": 3,
      "outputs": []
    },
    {
      "cell_type": "code",
      "source": [
        "import pandas as pd\n",
        "df = pd.read_csv('/content/machine-predictive-maintenance-classification/predictive_maintenance.csv')\n"
      ],
      "metadata": {
        "id": "WCJyZ0-17JCN"
      },
      "execution_count": null,
      "outputs": []
    },
    {
      "cell_type": "markdown",
      "source": [
        "##Data analysis"
      ],
      "metadata": {
        "id": "MrJvJ_Rr8TjW"
      }
    },
    {
      "cell_type": "code",
      "source": [
        "df.info()"
      ],
      "metadata": {
        "colab": {
          "base_uri": "https://localhost:8080/"
        },
        "id": "jW6aBF9n8TP0",
        "outputId": "ae813fe3-5a4f-4407-d658-d10f552f3868"
      },
      "execution_count": 7,
      "outputs": [
        {
          "output_type": "stream",
          "name": "stdout",
          "text": [
            "<class 'pandas.core.frame.DataFrame'>\n",
            "RangeIndex: 10000 entries, 0 to 9999\n",
            "Data columns (total 10 columns):\n",
            " #   Column                   Non-Null Count  Dtype  \n",
            "---  ------                   --------------  -----  \n",
            " 0   UDI                      10000 non-null  int64  \n",
            " 1   Product ID               10000 non-null  object \n",
            " 2   Type                     10000 non-null  object \n",
            " 3   Air temperature [K]      10000 non-null  float64\n",
            " 4   Process temperature [K]  10000 non-null  float64\n",
            " 5   Rotational speed [rpm]   10000 non-null  int64  \n",
            " 6   Torque [Nm]              10000 non-null  float64\n",
            " 7   Tool wear [min]          10000 non-null  int64  \n",
            " 8   Target                   10000 non-null  int64  \n",
            " 9   Failure Type             10000 non-null  object \n",
            "dtypes: float64(3), int64(4), object(3)\n",
            "memory usage: 781.4+ KB\n"
          ]
        }
      ]
    },
    {
      "cell_type": "markdown",
      "source": [
        "###How much data do we have?"
      ],
      "metadata": {
        "id": "jiUQSpkJ8erS"
      }
    },
    {
      "cell_type": "code",
      "source": [
        "df.shape"
      ],
      "metadata": {
        "colab": {
          "base_uri": "https://localhost:8080/"
        },
        "id": "OWXYAr5C8hJ_",
        "outputId": "faa57d7a-0ffd-437a-9a60-112d42b39b90"
      },
      "execution_count": 8,
      "outputs": [
        {
          "output_type": "execute_result",
          "data": {
            "text/plain": [
              "(10000, 10)"
            ]
          },
          "metadata": {},
          "execution_count": 8
        }
      ]
    },
    {
      "cell_type": "markdown",
      "source": [
        "###How many machine states are there?"
      ],
      "metadata": {
        "id": "MDZ-kA0Y8YZX"
      }
    },
    {
      "cell_type": "code",
      "source": [
        "possible_machine_states = list(df['Failure Type'].unique())\n",
        "possible_machine_states"
      ],
      "metadata": {
        "colab": {
          "base_uri": "https://localhost:8080/"
        },
        "id": "iqKm2xfO7pNc",
        "outputId": "197ee4b0-afee-4444-c65e-ce896ccaf2f4"
      },
      "execution_count": 6,
      "outputs": [
        {
          "output_type": "execute_result",
          "data": {
            "text/plain": [
              "['No Failure',\n",
              " 'Power Failure',\n",
              " 'Tool Wear Failure',\n",
              " 'Overstrain Failure',\n",
              " 'Random Failures',\n",
              " 'Heat Dissipation Failure']"
            ]
          },
          "metadata": {},
          "execution_count": 6
        }
      ]
    },
    {
      "cell_type": "markdown",
      "source": [
        "###How much of the data is when the machine was working ?"
      ],
      "metadata": {
        "id": "mZilyq5j8tNa"
      }
    },
    {
      "cell_type": "code",
      "source": [
        "# Get all rows where machine status was working\n",
        "df_status_WORKING = df[ df[\"Failure Type\"] == \"No Failure\" ]"
      ],
      "metadata": {
        "id": "u8rn9hLw8uSk"
      },
      "execution_count": 9,
      "outputs": []
    },
    {
      "cell_type": "code",
      "source": [
        "nr_rows_machine_status_WORKING = df_status_WORKING.shape[0]"
      ],
      "metadata": {
        "id": "dsLmgaMc84U9"
      },
      "execution_count": 10,
      "outputs": []
    },
    {
      "cell_type": "code",
      "source": [
        "nr_rows_total = df.shape[0]"
      ],
      "metadata": {
        "id": "NTOYi7w086a5"
      },
      "execution_count": 11,
      "outputs": []
    },
    {
      "cell_type": "code",
      "source": [
        "percent_machine_status_WORKING = \\\n",
        "    (nr_rows_machine_status_WORKING / nr_rows_total) * 100.0\n",
        "\n",
        "print('The percentage of \"Working\" data is: ', percent_machine_status_WORKING)"
      ],
      "metadata": {
        "colab": {
          "base_uri": "https://localhost:8080/"
        },
        "id": "xVnUIdUC88jA",
        "outputId": "e071652c-078e-41f7-9ef2-7a6394bf61cf"
      },
      "execution_count": 12,
      "outputs": [
        {
          "output_type": "stream",
          "name": "stdout",
          "text": [
            "The percentage of \"Working\" data is:  96.52\n"
          ]
        }
      ]
    },
    {
      "cell_type": "markdown",
      "source": [
        "###How many times was the machine broken?"
      ],
      "metadata": {
        "id": "tevK75Aq9EKF"
      }
    },
    {
      "cell_type": "code",
      "source": [
        "# Get all rows where machine status was broken\n",
        "df_status_BROKEN = df[ df[\"Target\"] == 1]\n",
        "df_status_BROKEN"
      ],
      "metadata": {
        "colab": {
          "base_uri": "https://localhost:8080/",
          "height": 676
        },
        "id": "HxfXnHe28__H",
        "outputId": "1159193e-142a-44ef-c4b3-055a2763990f"
      },
      "execution_count": 16,
      "outputs": [
        {
          "output_type": "execute_result",
          "data": {
            "text/plain": [
              "       UDI Product ID Type  Air temperature [K]  Process temperature [K]  \\\n",
              "50      51     L47230    L                298.9                    309.1   \n",
              "69      70     L47249    L                298.9                    309.0   \n",
              "77      78     L47257    L                298.8                    308.9   \n",
              "160    161     L47340    L                298.4                    308.2   \n",
              "161    162     L47341    L                298.3                    308.1   \n",
              "...    ...        ...  ...                  ...                      ...   \n",
              "9758  9759     L56938    L                298.6                    309.8   \n",
              "9764  9765     L56944    L                298.5                    309.5   \n",
              "9822  9823     L57002    L                298.5                    309.4   \n",
              "9830  9831     L57010    L                298.3                    309.3   \n",
              "9974  9975     L57154    L                298.6                    308.2   \n",
              "\n",
              "      Rotational speed [rpm]  Torque [Nm]  Tool wear [min]  Target  \\\n",
              "50                      2861          4.6              143       1   \n",
              "69                      1410         65.7              191       1   \n",
              "77                      1455         41.3              208       1   \n",
              "160                     1282         60.7              216       1   \n",
              "161                     1412         52.3              218       1   \n",
              "...                      ...          ...              ...     ...   \n",
              "9758                    2271         16.2              218       1   \n",
              "9764                    1294         66.7               12       1   \n",
              "9822                    1360         60.9              187       1   \n",
              "9830                    1337         56.1              206       1   \n",
              "9974                    1361         68.2              172       1   \n",
              "\n",
              "            Failure Type  \n",
              "50         Power Failure  \n",
              "69         Power Failure  \n",
              "77     Tool Wear Failure  \n",
              "160   Overstrain Failure  \n",
              "161   Overstrain Failure  \n",
              "...                  ...  \n",
              "9758   Tool Wear Failure  \n",
              "9764       Power Failure  \n",
              "9822  Overstrain Failure  \n",
              "9830  Overstrain Failure  \n",
              "9974       Power Failure  \n",
              "\n",
              "[339 rows x 10 columns]"
            ],
            "text/html": [
              "\n",
              "  <div id=\"df-e65676fe-b856-456f-b4cf-91147e1e0c9b\">\n",
              "    <div class=\"colab-df-container\">\n",
              "      <div>\n",
              "<style scoped>\n",
              "    .dataframe tbody tr th:only-of-type {\n",
              "        vertical-align: middle;\n",
              "    }\n",
              "\n",
              "    .dataframe tbody tr th {\n",
              "        vertical-align: top;\n",
              "    }\n",
              "\n",
              "    .dataframe thead th {\n",
              "        text-align: right;\n",
              "    }\n",
              "</style>\n",
              "<table border=\"1\" class=\"dataframe\">\n",
              "  <thead>\n",
              "    <tr style=\"text-align: right;\">\n",
              "      <th></th>\n",
              "      <th>UDI</th>\n",
              "      <th>Product ID</th>\n",
              "      <th>Type</th>\n",
              "      <th>Air temperature [K]</th>\n",
              "      <th>Process temperature [K]</th>\n",
              "      <th>Rotational speed [rpm]</th>\n",
              "      <th>Torque [Nm]</th>\n",
              "      <th>Tool wear [min]</th>\n",
              "      <th>Target</th>\n",
              "      <th>Failure Type</th>\n",
              "    </tr>\n",
              "  </thead>\n",
              "  <tbody>\n",
              "    <tr>\n",
              "      <th>50</th>\n",
              "      <td>51</td>\n",
              "      <td>L47230</td>\n",
              "      <td>L</td>\n",
              "      <td>298.9</td>\n",
              "      <td>309.1</td>\n",
              "      <td>2861</td>\n",
              "      <td>4.6</td>\n",
              "      <td>143</td>\n",
              "      <td>1</td>\n",
              "      <td>Power Failure</td>\n",
              "    </tr>\n",
              "    <tr>\n",
              "      <th>69</th>\n",
              "      <td>70</td>\n",
              "      <td>L47249</td>\n",
              "      <td>L</td>\n",
              "      <td>298.9</td>\n",
              "      <td>309.0</td>\n",
              "      <td>1410</td>\n",
              "      <td>65.7</td>\n",
              "      <td>191</td>\n",
              "      <td>1</td>\n",
              "      <td>Power Failure</td>\n",
              "    </tr>\n",
              "    <tr>\n",
              "      <th>77</th>\n",
              "      <td>78</td>\n",
              "      <td>L47257</td>\n",
              "      <td>L</td>\n",
              "      <td>298.8</td>\n",
              "      <td>308.9</td>\n",
              "      <td>1455</td>\n",
              "      <td>41.3</td>\n",
              "      <td>208</td>\n",
              "      <td>1</td>\n",
              "      <td>Tool Wear Failure</td>\n",
              "    </tr>\n",
              "    <tr>\n",
              "      <th>160</th>\n",
              "      <td>161</td>\n",
              "      <td>L47340</td>\n",
              "      <td>L</td>\n",
              "      <td>298.4</td>\n",
              "      <td>308.2</td>\n",
              "      <td>1282</td>\n",
              "      <td>60.7</td>\n",
              "      <td>216</td>\n",
              "      <td>1</td>\n",
              "      <td>Overstrain Failure</td>\n",
              "    </tr>\n",
              "    <tr>\n",
              "      <th>161</th>\n",
              "      <td>162</td>\n",
              "      <td>L47341</td>\n",
              "      <td>L</td>\n",
              "      <td>298.3</td>\n",
              "      <td>308.1</td>\n",
              "      <td>1412</td>\n",
              "      <td>52.3</td>\n",
              "      <td>218</td>\n",
              "      <td>1</td>\n",
              "      <td>Overstrain Failure</td>\n",
              "    </tr>\n",
              "    <tr>\n",
              "      <th>...</th>\n",
              "      <td>...</td>\n",
              "      <td>...</td>\n",
              "      <td>...</td>\n",
              "      <td>...</td>\n",
              "      <td>...</td>\n",
              "      <td>...</td>\n",
              "      <td>...</td>\n",
              "      <td>...</td>\n",
              "      <td>...</td>\n",
              "      <td>...</td>\n",
              "    </tr>\n",
              "    <tr>\n",
              "      <th>9758</th>\n",
              "      <td>9759</td>\n",
              "      <td>L56938</td>\n",
              "      <td>L</td>\n",
              "      <td>298.6</td>\n",
              "      <td>309.8</td>\n",
              "      <td>2271</td>\n",
              "      <td>16.2</td>\n",
              "      <td>218</td>\n",
              "      <td>1</td>\n",
              "      <td>Tool Wear Failure</td>\n",
              "    </tr>\n",
              "    <tr>\n",
              "      <th>9764</th>\n",
              "      <td>9765</td>\n",
              "      <td>L56944</td>\n",
              "      <td>L</td>\n",
              "      <td>298.5</td>\n",
              "      <td>309.5</td>\n",
              "      <td>1294</td>\n",
              "      <td>66.7</td>\n",
              "      <td>12</td>\n",
              "      <td>1</td>\n",
              "      <td>Power Failure</td>\n",
              "    </tr>\n",
              "    <tr>\n",
              "      <th>9822</th>\n",
              "      <td>9823</td>\n",
              "      <td>L57002</td>\n",
              "      <td>L</td>\n",
              "      <td>298.5</td>\n",
              "      <td>309.4</td>\n",
              "      <td>1360</td>\n",
              "      <td>60.9</td>\n",
              "      <td>187</td>\n",
              "      <td>1</td>\n",
              "      <td>Overstrain Failure</td>\n",
              "    </tr>\n",
              "    <tr>\n",
              "      <th>9830</th>\n",
              "      <td>9831</td>\n",
              "      <td>L57010</td>\n",
              "      <td>L</td>\n",
              "      <td>298.3</td>\n",
              "      <td>309.3</td>\n",
              "      <td>1337</td>\n",
              "      <td>56.1</td>\n",
              "      <td>206</td>\n",
              "      <td>1</td>\n",
              "      <td>Overstrain Failure</td>\n",
              "    </tr>\n",
              "    <tr>\n",
              "      <th>9974</th>\n",
              "      <td>9975</td>\n",
              "      <td>L57154</td>\n",
              "      <td>L</td>\n",
              "      <td>298.6</td>\n",
              "      <td>308.2</td>\n",
              "      <td>1361</td>\n",
              "      <td>68.2</td>\n",
              "      <td>172</td>\n",
              "      <td>1</td>\n",
              "      <td>Power Failure</td>\n",
              "    </tr>\n",
              "  </tbody>\n",
              "</table>\n",
              "<p>339 rows × 10 columns</p>\n",
              "</div>\n",
              "      <button class=\"colab-df-convert\" onclick=\"convertToInteractive('df-e65676fe-b856-456f-b4cf-91147e1e0c9b')\"\n",
              "              title=\"Convert this dataframe to an interactive table.\"\n",
              "              style=\"display:none;\">\n",
              "        \n",
              "  <svg xmlns=\"http://www.w3.org/2000/svg\" height=\"24px\"viewBox=\"0 0 24 24\"\n",
              "       width=\"24px\">\n",
              "    <path d=\"M0 0h24v24H0V0z\" fill=\"none\"/>\n",
              "    <path d=\"M18.56 5.44l.94 2.06.94-2.06 2.06-.94-2.06-.94-.94-2.06-.94 2.06-2.06.94zm-11 1L8.5 8.5l.94-2.06 2.06-.94-2.06-.94L8.5 2.5l-.94 2.06-2.06.94zm10 10l.94 2.06.94-2.06 2.06-.94-2.06-.94-.94-2.06-.94 2.06-2.06.94z\"/><path d=\"M17.41 7.96l-1.37-1.37c-.4-.4-.92-.59-1.43-.59-.52 0-1.04.2-1.43.59L10.3 9.45l-7.72 7.72c-.78.78-.78 2.05 0 2.83L4 21.41c.39.39.9.59 1.41.59.51 0 1.02-.2 1.41-.59l7.78-7.78 2.81-2.81c.8-.78.8-2.07 0-2.86zM5.41 20L4 18.59l7.72-7.72 1.47 1.35L5.41 20z\"/>\n",
              "  </svg>\n",
              "      </button>\n",
              "      \n",
              "  <style>\n",
              "    .colab-df-container {\n",
              "      display:flex;\n",
              "      flex-wrap:wrap;\n",
              "      gap: 12px;\n",
              "    }\n",
              "\n",
              "    .colab-df-convert {\n",
              "      background-color: #E8F0FE;\n",
              "      border: none;\n",
              "      border-radius: 50%;\n",
              "      cursor: pointer;\n",
              "      display: none;\n",
              "      fill: #1967D2;\n",
              "      height: 32px;\n",
              "      padding: 0 0 0 0;\n",
              "      width: 32px;\n",
              "    }\n",
              "\n",
              "    .colab-df-convert:hover {\n",
              "      background-color: #E2EBFA;\n",
              "      box-shadow: 0px 1px 2px rgba(60, 64, 67, 0.3), 0px 1px 3px 1px rgba(60, 64, 67, 0.15);\n",
              "      fill: #174EA6;\n",
              "    }\n",
              "\n",
              "    [theme=dark] .colab-df-convert {\n",
              "      background-color: #3B4455;\n",
              "      fill: #D2E3FC;\n",
              "    }\n",
              "\n",
              "    [theme=dark] .colab-df-convert:hover {\n",
              "      background-color: #434B5C;\n",
              "      box-shadow: 0px 1px 3px 1px rgba(0, 0, 0, 0.15);\n",
              "      filter: drop-shadow(0px 1px 2px rgba(0, 0, 0, 0.3));\n",
              "      fill: #FFFFFF;\n",
              "    }\n",
              "  </style>\n",
              "\n",
              "      <script>\n",
              "        const buttonEl =\n",
              "          document.querySelector('#df-e65676fe-b856-456f-b4cf-91147e1e0c9b button.colab-df-convert');\n",
              "        buttonEl.style.display =\n",
              "          google.colab.kernel.accessAllowed ? 'block' : 'none';\n",
              "\n",
              "        async function convertToInteractive(key) {\n",
              "          const element = document.querySelector('#df-e65676fe-b856-456f-b4cf-91147e1e0c9b');\n",
              "          const dataTable =\n",
              "            await google.colab.kernel.invokeFunction('convertToInteractive',\n",
              "                                                     [key], {});\n",
              "          if (!dataTable) return;\n",
              "\n",
              "          const docLinkHtml = 'Like what you see? Visit the ' +\n",
              "            '<a target=\"_blank\" href=https://colab.research.google.com/notebooks/data_table.ipynb>data table notebook</a>'\n",
              "            + ' to learn more about interactive tables.';\n",
              "          element.innerHTML = '';\n",
              "          dataTable['output_type'] = 'display_data';\n",
              "          await google.colab.output.renderOutput(dataTable, element);\n",
              "          const docLink = document.createElement('div');\n",
              "          docLink.innerHTML = docLinkHtml;\n",
              "          element.appendChild(docLink);\n",
              "        }\n",
              "      </script>\n",
              "    </div>\n",
              "  </div>\n",
              "  "
            ]
          },
          "metadata": {},
          "execution_count": 16
        }
      ]
    },
    {
      "cell_type": "code",
      "source": [
        "print('There are ',df_status_BROKEN.shape[0],' instances where the machine was broken.')"
      ],
      "metadata": {
        "colab": {
          "base_uri": "https://localhost:8080/"
        },
        "id": "KOolbtRo93IB",
        "outputId": "85f26187-d57c-42f2-acd2-1a4ca117de17"
      },
      "execution_count": 17,
      "outputs": [
        {
          "output_type": "stream",
          "name": "stdout",
          "text": [
            "There are  339  instances where the machine was broken.\n"
          ]
        }
      ]
    },
    {
      "cell_type": "code",
      "source": [
        "nr_rows_machine_status_BROKEN = df_status_BROKEN.shape[0]"
      ],
      "metadata": {
        "id": "K6k0ppY_93y1"
      },
      "execution_count": 18,
      "outputs": []
    }
  ]
}